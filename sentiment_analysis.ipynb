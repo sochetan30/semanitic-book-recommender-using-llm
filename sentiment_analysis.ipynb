{
 "cells": [
  {
   "cell_type": "markdown",
   "metadata": {},
   "source": [
    "### Sentiment Analysis:\n",
    "\n",
    "- LLM use for sentiment analysis\n",
    "- Type of data gives diff data science feature\n",
    "- User can filter based on sentiment of book : anger, disgust, sadness, suprise, neutral , fear,joy\n",
    "- Classification on 7 sentiments \n",
    "\n",
    "Fine Tuning - Use for LLM to do emotional clasisification.\n",
    "RoBERTa Model \n",
    "- Fine tune to remove prediction task from previous model and train on predition on emotion by using encoder layer. \n",
    "- Get model to learn its new final layer keeping previos trained encoder as it is."
   ]
  },
  {
   "cell_type": "code",
   "execution_count": 1,
   "metadata": {},
   "outputs": [
    {
     "data": {
      "text/html": [
       "<div>\n",
       "<style scoped>\n",
       "    .dataframe tbody tr th:only-of-type {\n",
       "        vertical-align: middle;\n",
       "    }\n",
       "\n",
       "    .dataframe tbody tr th {\n",
       "        vertical-align: top;\n",
       "    }\n",
       "\n",
       "    .dataframe thead th {\n",
       "        text-align: right;\n",
       "    }\n",
       "</style>\n",
       "<table border=\"1\" class=\"dataframe\">\n",
       "  <thead>\n",
       "    <tr style=\"text-align: right;\">\n",
       "      <th></th>\n",
       "      <th>isbn13</th>\n",
       "      <th>isbn10</th>\n",
       "      <th>title</th>\n",
       "      <th>authors</th>\n",
       "      <th>categories</th>\n",
       "      <th>thumbnail</th>\n",
       "      <th>description</th>\n",
       "      <th>published_year</th>\n",
       "      <th>average_rating</th>\n",
       "      <th>num_pages</th>\n",
       "      <th>ratings_count</th>\n",
       "      <th>title_and_subtitle</th>\n",
       "      <th>tagged_description</th>\n",
       "      <th>simpple_categories</th>\n",
       "    </tr>\n",
       "  </thead>\n",
       "  <tbody>\n",
       "    <tr>\n",
       "      <th>0</th>\n",
       "      <td>9780002005883</td>\n",
       "      <td>0002005883</td>\n",
       "      <td>Gilead</td>\n",
       "      <td>Marilynne Robinson</td>\n",
       "      <td>Fiction</td>\n",
       "      <td>http://books.google.com/books/content?id=KQZCP...</td>\n",
       "      <td>A NOVEL THAT READERS and critics have been eag...</td>\n",
       "      <td>2004.0</td>\n",
       "      <td>3.85</td>\n",
       "      <td>247.0</td>\n",
       "      <td>361.0</td>\n",
       "      <td>Gilead</td>\n",
       "      <td>9780002005883 A NOVEL THAT READERS and critics...</td>\n",
       "      <td>Fiction</td>\n",
       "    </tr>\n",
       "    <tr>\n",
       "      <th>1</th>\n",
       "      <td>9780002261982</td>\n",
       "      <td>0002261987</td>\n",
       "      <td>Spider's Web</td>\n",
       "      <td>Charles Osborne;Agatha Christie</td>\n",
       "      <td>Detective and mystery stories</td>\n",
       "      <td>http://books.google.com/books/content?id=gA5GP...</td>\n",
       "      <td>A new 'Christie for Christmas' -- a full-lengt...</td>\n",
       "      <td>2000.0</td>\n",
       "      <td>3.83</td>\n",
       "      <td>241.0</td>\n",
       "      <td>5164.0</td>\n",
       "      <td>Spider's Web: A Novel</td>\n",
       "      <td>9780002261982 A new 'Christie for Christmas' -...</td>\n",
       "      <td>Fiction</td>\n",
       "    </tr>\n",
       "    <tr>\n",
       "      <th>2</th>\n",
       "      <td>9780006178736</td>\n",
       "      <td>0006178731</td>\n",
       "      <td>Rage of angels</td>\n",
       "      <td>Sidney Sheldon</td>\n",
       "      <td>Fiction</td>\n",
       "      <td>http://books.google.com/books/content?id=FKo2T...</td>\n",
       "      <td>A memorable, mesmerizing heroine Jennifer -- b...</td>\n",
       "      <td>1993.0</td>\n",
       "      <td>3.93</td>\n",
       "      <td>512.0</td>\n",
       "      <td>29532.0</td>\n",
       "      <td>Rage of angels</td>\n",
       "      <td>9780006178736 A memorable, mesmerizing heroine...</td>\n",
       "      <td>Fiction</td>\n",
       "    </tr>\n",
       "    <tr>\n",
       "      <th>3</th>\n",
       "      <td>9780006280897</td>\n",
       "      <td>0006280897</td>\n",
       "      <td>The Four Loves</td>\n",
       "      <td>Clive Staples Lewis</td>\n",
       "      <td>Christian life</td>\n",
       "      <td>http://books.google.com/books/content?id=XhQ5X...</td>\n",
       "      <td>Lewis' work on the nature of love divides love...</td>\n",
       "      <td>2002.0</td>\n",
       "      <td>4.15</td>\n",
       "      <td>170.0</td>\n",
       "      <td>33684.0</td>\n",
       "      <td>The Four Loves</td>\n",
       "      <td>9780006280897 Lewis' work on the nature of lov...</td>\n",
       "      <td>Non-Fiction</td>\n",
       "    </tr>\n",
       "    <tr>\n",
       "      <th>4</th>\n",
       "      <td>9780006280934</td>\n",
       "      <td>0006280935</td>\n",
       "      <td>The Problem of Pain</td>\n",
       "      <td>Clive Staples Lewis</td>\n",
       "      <td>Christian life</td>\n",
       "      <td>http://books.google.com/books/content?id=Kk-uV...</td>\n",
       "      <td>\"In The Problem of Pain, C.S. Lewis, one of th...</td>\n",
       "      <td>2002.0</td>\n",
       "      <td>4.09</td>\n",
       "      <td>176.0</td>\n",
       "      <td>37569.0</td>\n",
       "      <td>The Problem of Pain</td>\n",
       "      <td>9780006280934 \"In The Problem of Pain, C.S. Le...</td>\n",
       "      <td>Non-Fiction</td>\n",
       "    </tr>\n",
       "  </tbody>\n",
       "</table>\n",
       "</div>"
      ],
      "text/plain": [
       "          isbn13      isbn10                title  \\\n",
       "0  9780002005883  0002005883               Gilead   \n",
       "1  9780002261982  0002261987         Spider's Web   \n",
       "2  9780006178736  0006178731       Rage of angels   \n",
       "3  9780006280897  0006280897       The Four Loves   \n",
       "4  9780006280934  0006280935  The Problem of Pain   \n",
       "\n",
       "                           authors                     categories  \\\n",
       "0               Marilynne Robinson                        Fiction   \n",
       "1  Charles Osborne;Agatha Christie  Detective and mystery stories   \n",
       "2                   Sidney Sheldon                        Fiction   \n",
       "3              Clive Staples Lewis                 Christian life   \n",
       "4              Clive Staples Lewis                 Christian life   \n",
       "\n",
       "                                           thumbnail  \\\n",
       "0  http://books.google.com/books/content?id=KQZCP...   \n",
       "1  http://books.google.com/books/content?id=gA5GP...   \n",
       "2  http://books.google.com/books/content?id=FKo2T...   \n",
       "3  http://books.google.com/books/content?id=XhQ5X...   \n",
       "4  http://books.google.com/books/content?id=Kk-uV...   \n",
       "\n",
       "                                         description  published_year  \\\n",
       "0  A NOVEL THAT READERS and critics have been eag...          2004.0   \n",
       "1  A new 'Christie for Christmas' -- a full-lengt...          2000.0   \n",
       "2  A memorable, mesmerizing heroine Jennifer -- b...          1993.0   \n",
       "3  Lewis' work on the nature of love divides love...          2002.0   \n",
       "4  \"In The Problem of Pain, C.S. Lewis, one of th...          2002.0   \n",
       "\n",
       "   average_rating  num_pages  ratings_count     title_and_subtitle  \\\n",
       "0            3.85      247.0          361.0                 Gilead   \n",
       "1            3.83      241.0         5164.0  Spider's Web: A Novel   \n",
       "2            3.93      512.0        29532.0         Rage of angels   \n",
       "3            4.15      170.0        33684.0         The Four Loves   \n",
       "4            4.09      176.0        37569.0    The Problem of Pain   \n",
       "\n",
       "                                  tagged_description simpple_categories  \n",
       "0  9780002005883 A NOVEL THAT READERS and critics...            Fiction  \n",
       "1  9780002261982 A new 'Christie for Christmas' -...            Fiction  \n",
       "2  9780006178736 A memorable, mesmerizing heroine...            Fiction  \n",
       "3  9780006280897 Lewis' work on the nature of lov...        Non-Fiction  \n",
       "4  9780006280934 \"In The Problem of Pain, C.S. Le...        Non-Fiction  "
      ]
     },
     "execution_count": 1,
     "metadata": {},
     "output_type": "execute_result"
    }
   ],
   "source": [
    "import pandas as pd\n",
    "\n",
    "books =pd.read_csv(\"books_with_categories.csv\")\n",
    "books.head()"
   ]
  },
  {
   "cell_type": "code",
   "execution_count": 3,
   "metadata": {},
   "outputs": [
    {
     "name": "stderr",
     "output_type": "stream",
     "text": [
      "Device set to use cpu\n"
     ]
    },
    {
     "data": {
      "text/plain": [
       "[[{'label': 'joy', 'score': 0.9845667481422424},\n",
       "  {'label': 'surprise', 'score': 0.0049272081814706326},\n",
       "  {'label': 'sadness', 'score': 0.004531427752226591},\n",
       "  {'label': 'neutral', 'score': 0.0034752993378788233},\n",
       "  {'label': 'anger', 'score': 0.0013875295408070087},\n",
       "  {'label': 'disgust', 'score': 0.0007134026964195073},\n",
       "  {'label': 'fear', 'score': 0.0003984913637395948}]]"
      ]
     },
     "execution_count": 3,
     "metadata": {},
     "output_type": "execute_result"
    }
   ],
   "source": [
    "# Text classification on sentiment analysis - Hence need emotional odel from hugignface\n",
    "\n",
    "from transformers import pipeline\n",
    "\n",
    "# Load the emotion detection pipeline using the emotion-english-distill-roberta model\n",
    "emotion_classifier = pipeline(\"text-classification\", model=\"j-hartmann/emotion-english-distilroberta-base\", top_k=None)\n",
    "emotion_classifier(\"I love this\")"
   ]
  },
  {
   "cell_type": "code",
   "execution_count": 4,
   "metadata": {},
   "outputs": [
    {
     "data": {
      "text/plain": [
       "'A NOVEL THAT READERS and critics have been eagerly anticipating for over a decade, Gilead is an astonishingly imagined story of remarkable lives. John Ames is a preacher, the son of a preacher and the grandson (both maternal and paternal) of preachers. It’s 1956 in Gilead, Iowa, towards the end of the Reverend Ames’s life, and he is absorbed in recording his family’s story, a legacy for the young son he will never see grow up. Haunted by his grandfather’s presence, John tells of the rift between his grandfather and his father: the elder, an angry visionary who fought for the abolitionist cause, and his son, an ardent pacifist. He is troubled, too, by his prodigal namesake, Jack (John Ames) Boughton, his best friend’s lost son who returns to Gilead searching for forgiveness and redemption. Told in John Ames’s joyous, rambling voice that finds beauty, humour and truth in the smallest of life’s details, Gilead is a song of celebration and acceptance of the best and the worst the world has to offer. At its heart is a tale of the sacred bonds between fathers and sons, pitch-perfect in style and story, set to dazzle critics and readers alike.'"
      ]
     },
     "execution_count": 4,
     "metadata": {},
     "output_type": "execute_result"
    }
   ],
   "source": [
    "books['description'][0]"
   ]
  },
  {
   "cell_type": "code",
   "execution_count": 5,
   "metadata": {},
   "outputs": [
    {
     "data": {
      "text/plain": [
       "[[{'label': 'fear', 'score': 0.6548401713371277},\n",
       "  {'label': 'neutral', 'score': 0.16985245048999786},\n",
       "  {'label': 'sadness', 'score': 0.11640936136245728},\n",
       "  {'label': 'surprise', 'score': 0.020700672641396523},\n",
       "  {'label': 'disgust', 'score': 0.019100703299045563},\n",
       "  {'label': 'joy', 'score': 0.01516145933419466},\n",
       "  {'label': 'anger', 'score': 0.0039351508021354675}]]"
      ]
     },
     "execution_count": 5,
     "metadata": {},
     "output_type": "execute_result"
    }
   ],
   "source": [
    "emotion_classifier(books['description'][0])"
   ]
  },
  {
   "cell_type": "code",
   "execution_count": 6,
   "metadata": {},
   "outputs": [
    {
     "data": {
      "text/plain": [
       "[[{'label': 'surprise', 'score': 0.7296020984649658},\n",
       "  {'label': 'neutral', 'score': 0.14038598537445068},\n",
       "  {'label': 'fear', 'score': 0.06816231459379196},\n",
       "  {'label': 'joy', 'score': 0.0479426383972168},\n",
       "  {'label': 'anger', 'score': 0.009156366810202599},\n",
       "  {'label': 'disgust', 'score': 0.0026284765917807817},\n",
       "  {'label': 'sadness', 'score': 0.002122163539752364}],\n",
       " [{'label': 'neutral', 'score': 0.4493700861930847},\n",
       "  {'label': 'disgust', 'score': 0.27359166741371155},\n",
       "  {'label': 'joy', 'score': 0.10908330976963043},\n",
       "  {'label': 'sadness', 'score': 0.0936274304986},\n",
       "  {'label': 'anger', 'score': 0.040478311479091644},\n",
       "  {'label': 'surprise', 'score': 0.02697015181183815},\n",
       "  {'label': 'fear', 'score': 0.006879040971398354}],\n",
       " [{'label': 'neutral', 'score': 0.6462160348892212},\n",
       "  {'label': 'sadness', 'score': 0.2427334040403366},\n",
       "  {'label': 'disgust', 'score': 0.043422676622867584},\n",
       "  {'label': 'surprise', 'score': 0.028300520032644272},\n",
       "  {'label': 'joy', 'score': 0.014211487025022507},\n",
       "  {'label': 'fear', 'score': 0.014084073714911938},\n",
       "  {'label': 'anger', 'score': 0.011031887494027615}],\n",
       " [{'label': 'fear', 'score': 0.9281682968139648},\n",
       "  {'label': 'anger', 'score': 0.03219086676836014},\n",
       "  {'label': 'neutral', 'score': 0.012808667495846748},\n",
       "  {'label': 'sadness', 'score': 0.008756859228014946},\n",
       "  {'label': 'surprise', 'score': 0.008597901090979576},\n",
       "  {'label': 'disgust', 'score': 0.008431815542280674},\n",
       "  {'label': 'joy', 'score': 0.0010455823503434658}],\n",
       " [{'label': 'sadness', 'score': 0.9671575427055359},\n",
       "  {'label': 'neutral', 'score': 0.015104148536920547},\n",
       "  {'label': 'disgust', 'score': 0.006480592768639326},\n",
       "  {'label': 'fear', 'score': 0.005393987521529198},\n",
       "  {'label': 'surprise', 'score': 0.0022869419772177935},\n",
       "  {'label': 'anger', 'score': 0.001842890284024179},\n",
       "  {'label': 'joy', 'score': 0.0017338789766654372}],\n",
       " [{'label': 'joy', 'score': 0.9327982664108276},\n",
       "  {'label': 'disgust', 'score': 0.037716951221227646},\n",
       "  {'label': 'neutral', 'score': 0.01589179039001465},\n",
       "  {'label': 'sadness', 'score': 0.006444488652050495},\n",
       "  {'label': 'anger', 'score': 0.005024956539273262},\n",
       "  {'label': 'surprise', 'score': 0.0015812052879482508},\n",
       "  {'label': 'fear', 'score': 0.000542305177077651}],\n",
       " [{'label': 'joy', 'score': 0.6528708338737488},\n",
       "  {'label': 'neutral', 'score': 0.2542746663093567},\n",
       "  {'label': 'surprise', 'score': 0.06808292865753174},\n",
       "  {'label': 'sadness', 'score': 0.00990899559110403},\n",
       "  {'label': 'disgust', 'score': 0.006512210238724947},\n",
       "  {'label': 'anger', 'score': 0.004821307025849819},\n",
       "  {'label': 'fear', 'score': 0.0035290156956762075}],\n",
       " [{'label': 'neutral', 'score': 0.5494776368141174},\n",
       "  {'label': 'sadness', 'score': 0.11169002205133438},\n",
       "  {'label': 'disgust', 'score': 0.10400651395320892},\n",
       "  {'label': 'surprise', 'score': 0.0787653774023056},\n",
       "  {'label': 'anger', 'score': 0.06413347274065018},\n",
       "  {'label': 'fear', 'score': 0.05136268585920334},\n",
       "  {'label': 'joy', 'score': 0.04056432843208313}]]"
      ]
     },
     "execution_count": 6,
     "metadata": {},
     "output_type": "execute_result"
    }
   ],
   "source": [
    "emotion_classifier(books['description'][0].split(\".\"))"
   ]
  },
  {
   "cell_type": "code",
   "execution_count": 7,
   "metadata": {},
   "outputs": [],
   "source": [
    "sentence = books['description'][0].split(\".\")\n",
    "predictions =emotion_classifier(sentence)"
   ]
  },
  {
   "cell_type": "code",
   "execution_count": 8,
   "metadata": {},
   "outputs": [
    {
     "data": {
      "text/plain": [
       "'A NOVEL THAT READERS and critics have been eagerly anticipating for over a decade, Gilead is an astonishingly imagined story of remarkable lives'"
      ]
     },
     "execution_count": 8,
     "metadata": {},
     "output_type": "execute_result"
    }
   ],
   "source": [
    "sentence[0]"
   ]
  },
  {
   "cell_type": "code",
   "execution_count": 9,
   "metadata": {},
   "outputs": [
    {
     "data": {
      "text/plain": [
       "[{'label': 'surprise', 'score': 0.7296020984649658},\n",
       " {'label': 'neutral', 'score': 0.14038598537445068},\n",
       " {'label': 'fear', 'score': 0.06816231459379196},\n",
       " {'label': 'joy', 'score': 0.0479426383972168},\n",
       " {'label': 'anger', 'score': 0.009156366810202599},\n",
       " {'label': 'disgust', 'score': 0.0026284765917807817},\n",
       " {'label': 'sadness', 'score': 0.002122163539752364}]"
      ]
     },
     "execution_count": 9,
     "metadata": {},
     "output_type": "execute_result"
    }
   ],
   "source": [
    "predictions[0]"
   ]
  },
  {
   "cell_type": "code",
   "execution_count": 10,
   "metadata": {},
   "outputs": [
    {
     "data": {
      "text/plain": [
       "' Haunted by his grandfather’s presence, John tells of the rift between his grandfather and his father: the elder, an angry visionary who fought for the abolitionist cause, and his son, an ardent pacifist'"
      ]
     },
     "execution_count": 10,
     "metadata": {},
     "output_type": "execute_result"
    }
   ],
   "source": [
    "sentence[3]"
   ]
  },
  {
   "cell_type": "code",
   "execution_count": 11,
   "metadata": {},
   "outputs": [
    {
     "data": {
      "text/plain": [
       "[{'label': 'fear', 'score': 0.9281682968139648},\n",
       " {'label': 'anger', 'score': 0.03219086676836014},\n",
       " {'label': 'neutral', 'score': 0.012808667495846748},\n",
       " {'label': 'sadness', 'score': 0.008756859228014946},\n",
       " {'label': 'surprise', 'score': 0.008597901090979576},\n",
       " {'label': 'disgust', 'score': 0.008431815542280674},\n",
       " {'label': 'joy', 'score': 0.0010455823503434658}]"
      ]
     },
     "execution_count": 11,
     "metadata": {},
     "output_type": "execute_result"
    }
   ],
   "source": [
    "predictions[3]"
   ]
  },
  {
   "cell_type": "markdown",
   "metadata": {},
   "source": [
    "Here, we got saperate emotion for each sentence in the description\n",
    "but it complicates thing as we ahve muliptl emotion with same book.\n",
    "each book have sapearte column each of the saperate emotion score. take the highest sciore of particalar emotion"
   ]
  },
  {
   "cell_type": "code",
   "execution_count": 12,
   "metadata": {},
   "outputs": [
    {
     "data": {
      "text/plain": [
       "[{'label': 'anger', 'score': 0.009156366810202599},\n",
       " {'label': 'disgust', 'score': 0.0026284765917807817},\n",
       " {'label': 'fear', 'score': 0.06816231459379196},\n",
       " {'label': 'joy', 'score': 0.0479426383972168},\n",
       " {'label': 'neutral', 'score': 0.14038598537445068},\n",
       " {'label': 'sadness', 'score': 0.002122163539752364},\n",
       " {'label': 'surprise', 'score': 0.7296020984649658}]"
      ]
     },
     "execution_count": 12,
     "metadata": {},
     "output_type": "execute_result"
    }
   ],
   "source": [
    "sorted(predictions[0], key= lambda x: x[\"label\"])"
   ]
  },
  {
   "cell_type": "code",
   "execution_count": 13,
   "metadata": {},
   "outputs": [],
   "source": [
    "import numpy as np\n",
    "emotion_label =['anger','disgust','fear','joy','sadness','suprise','neutral']\n",
    "isbn=[]\n",
    "\n",
    "emotion_scores ={label: [] for label in emotion_label}\n",
    "\n",
    "def calculate_max_emotion_score(predictions):\n",
    "\n",
    "    per_emotion_scores = {label: [] for label in emotion_label}\n",
    "\n",
    "    for prediction in predictions:\n",
    "        sorted_predictions = sorted(prediction, key=lambda x: x[\"label\"])\n",
    "        for index, label in enumerate(emotion_label):\n",
    "            per_emotion_scores[label].append(sorted_predictions[index][\"score\"])\n",
    "        \n",
    "    return {label: np.max(scores) for label,scores in per_emotion_scores.items()}\n"
   ]
  },
  {
   "cell_type": "code",
   "execution_count": 15,
   "metadata": {},
   "outputs": [],
   "source": [
    "for i in range(10):\n",
    "    isbn.append(books['isbn13'][i])\n",
    "    sentences = books['description'][i].split(\".\")\n",
    "    predictions = emotion_classifier(sentences)\n",
    "    max_scores = calculate_max_emotion_score(predictions)\n",
    "\n",
    "    for label in emotion_label:\n",
    "        emotion_scores[label].append(max_scores[label])\n"
   ]
  },
  {
   "cell_type": "code",
   "execution_count": 17,
   "metadata": {},
   "outputs": [
    {
     "data": {
      "text/plain": [
       "[[{'label': 'neutral', 'score': 0.6624069809913635},\n",
       "  {'label': 'disgust', 'score': 0.17792613804340363},\n",
       "  {'label': 'fear', 'score': 0.04945690184831619},\n",
       "  {'label': 'surprise', 'score': 0.04681360349059105},\n",
       "  {'label': 'joy', 'score': 0.03219784051179886},\n",
       "  {'label': 'anger', 'score': 0.017658406868577003},\n",
       "  {'label': 'sadness', 'score': 0.013540101237595081}],\n",
       " [{'label': 'neutral', 'score': 0.8603723645210266},\n",
       "  {'label': 'surprise', 'score': 0.05570819973945618},\n",
       "  {'label': 'sadness', 'score': 0.048350926488637924},\n",
       "  {'label': 'joy', 'score': 0.016383472830057144},\n",
       "  {'label': 'disgust', 'score': 0.007452984806150198},\n",
       "  {'label': 'anger', 'score': 0.007116864435374737},\n",
       "  {'label': 'fear', 'score': 0.004615212325006723}],\n",
       " [{'label': 'neutral', 'score': 0.5494776368141174},\n",
       "  {'label': 'sadness', 'score': 0.11169002205133438},\n",
       "  {'label': 'disgust', 'score': 0.10400651395320892},\n",
       "  {'label': 'surprise', 'score': 0.0787653774023056},\n",
       "  {'label': 'anger', 'score': 0.06413347274065018},\n",
       "  {'label': 'fear', 'score': 0.05136268585920334},\n",
       "  {'label': 'joy', 'score': 0.04056432843208313}]]"
      ]
     },
     "execution_count": 17,
     "metadata": {},
     "output_type": "execute_result"
    }
   ],
   "source": [
    "predictions"
   ]
  },
  {
   "cell_type": "code",
   "execution_count": 18,
   "metadata": {},
   "outputs": [
    {
     "data": {
      "text/plain": [
       "{'anger': [0.06413347274065018,\n",
       "  0.6126192808151245,\n",
       "  0.06413347274065018,\n",
       "  0.35148438811302185,\n",
       "  0.08141247928142548,\n",
       "  0.23222461342811584,\n",
       "  0.538184404373169,\n",
       "  0.06413347274065018,\n",
       "  0.30066999793052673,\n",
       "  0.06413347274065018],\n",
       " 'disgust': [0.27359166741371155,\n",
       "  0.34828487038612366,\n",
       "  0.10400651395320892,\n",
       "  0.15072248876094818,\n",
       "  0.18449532985687256,\n",
       "  0.7271749973297119,\n",
       "  0.1558550000190735,\n",
       "  0.10400651395320892,\n",
       "  0.27948135137557983,\n",
       "  0.17792613804340363],\n",
       " 'fear': [0.9281682968139648,\n",
       "  0.9425276517868042,\n",
       "  0.9723207950592041,\n",
       "  0.3607058823108673,\n",
       "  0.09504334628582001,\n",
       "  0.05136268585920334,\n",
       "  0.7474270462989807,\n",
       "  0.40449708700180054,\n",
       "  0.9155240654945374,\n",
       "  0.05136268585920334],\n",
       " 'joy': [0.9327982664108276,\n",
       "  0.7044222950935364,\n",
       "  0.7672383785247803,\n",
       "  0.2518811821937561,\n",
       "  0.04056432843208313,\n",
       "  0.043375853449106216,\n",
       "  0.8725653886795044,\n",
       "  0.04056432843208313,\n",
       "  0.04056432843208313,\n",
       "  0.04056432843208313],\n",
       " 'sadness': [0.6462160348892212,\n",
       "  0.8879395127296448,\n",
       "  0.5494776368141174,\n",
       "  0.7326849699020386,\n",
       "  0.8843896389007568,\n",
       "  0.6213918328285217,\n",
       "  0.7121940851211548,\n",
       "  0.5494776368141174,\n",
       "  0.840289294719696,\n",
       "  0.8603723645210266],\n",
       " 'suprise': [0.9671575427055359,\n",
       "  0.11169002205133438,\n",
       "  0.11169002205133438,\n",
       "  0.11169002205133438,\n",
       "  0.47588053345680237,\n",
       "  0.11169002205133438,\n",
       "  0.4080010652542114,\n",
       "  0.8202826380729675,\n",
       "  0.35446107387542725,\n",
       "  0.11169002205133438],\n",
       " 'neutral': [0.7296020984649658,\n",
       "  0.2525462508201599,\n",
       "  0.0787653774023056,\n",
       "  0.0787653774023056,\n",
       "  0.0787653774023056,\n",
       "  0.27190348505973816,\n",
       "  0.0787653774023056,\n",
       "  0.23448701202869415,\n",
       "  0.13561420142650604,\n",
       "  0.0787653774023056]}"
      ]
     },
     "execution_count": 18,
     "metadata": {},
     "output_type": "execute_result"
    }
   ],
   "source": [
    "emotion_scores"
   ]
  },
  {
   "cell_type": "code",
   "execution_count": 19,
   "metadata": {},
   "outputs": [
    {
     "name": "stderr",
     "output_type": "stream",
     "text": [
      "100%|██████████| 5197/5197 [24:38<00:00,  3.51it/s]  \n"
     ]
    }
   ],
   "source": [
    "emotion_label =['anger','disgust','fear','joy','sadness','suprise','neutral']\n",
    "isbn=[]\n",
    "\n",
    "emotion_scores ={label: [] for label in emotion_label}\n",
    "from tqdm import tqdm\n",
    "for i in tqdm(range(len(books))):\n",
    "    isbn.append(books['isbn13'][i])\n",
    "    sentences = books['description'][i].split(\".\")\n",
    "    predictions = emotion_classifier(sentences)\n",
    "    max_scores = calculate_max_emotion_score(predictions)\n",
    "\n",
    "    for label in emotion_label:\n",
    "        emotion_scores[label].append(max_scores[label])\n"
   ]
  },
  {
   "cell_type": "code",
   "execution_count": 20,
   "metadata": {},
   "outputs": [
    {
     "data": {
      "text/html": [
       "<div>\n",
       "<style scoped>\n",
       "    .dataframe tbody tr th:only-of-type {\n",
       "        vertical-align: middle;\n",
       "    }\n",
       "\n",
       "    .dataframe tbody tr th {\n",
       "        vertical-align: top;\n",
       "    }\n",
       "\n",
       "    .dataframe thead th {\n",
       "        text-align: right;\n",
       "    }\n",
       "</style>\n",
       "<table border=\"1\" class=\"dataframe\">\n",
       "  <thead>\n",
       "    <tr style=\"text-align: right;\">\n",
       "      <th></th>\n",
       "      <th>anger</th>\n",
       "      <th>disgust</th>\n",
       "      <th>fear</th>\n",
       "      <th>joy</th>\n",
       "      <th>sadness</th>\n",
       "      <th>suprise</th>\n",
       "      <th>neutral</th>\n",
       "      <th>isbn13</th>\n",
       "    </tr>\n",
       "  </thead>\n",
       "  <tbody>\n",
       "    <tr>\n",
       "      <th>0</th>\n",
       "      <td>0.064133</td>\n",
       "      <td>0.273592</td>\n",
       "      <td>0.928168</td>\n",
       "      <td>0.932798</td>\n",
       "      <td>0.646216</td>\n",
       "      <td>0.967158</td>\n",
       "      <td>0.729602</td>\n",
       "      <td>9780002005883</td>\n",
       "    </tr>\n",
       "    <tr>\n",
       "      <th>1</th>\n",
       "      <td>0.612619</td>\n",
       "      <td>0.348285</td>\n",
       "      <td>0.942528</td>\n",
       "      <td>0.704422</td>\n",
       "      <td>0.887940</td>\n",
       "      <td>0.111690</td>\n",
       "      <td>0.252546</td>\n",
       "      <td>9780002261982</td>\n",
       "    </tr>\n",
       "    <tr>\n",
       "      <th>2</th>\n",
       "      <td>0.064133</td>\n",
       "      <td>0.104007</td>\n",
       "      <td>0.972321</td>\n",
       "      <td>0.767238</td>\n",
       "      <td>0.549478</td>\n",
       "      <td>0.111690</td>\n",
       "      <td>0.078765</td>\n",
       "      <td>9780006178736</td>\n",
       "    </tr>\n",
       "    <tr>\n",
       "      <th>3</th>\n",
       "      <td>0.351484</td>\n",
       "      <td>0.150722</td>\n",
       "      <td>0.360706</td>\n",
       "      <td>0.251881</td>\n",
       "      <td>0.732685</td>\n",
       "      <td>0.111690</td>\n",
       "      <td>0.078765</td>\n",
       "      <td>9780006280897</td>\n",
       "    </tr>\n",
       "    <tr>\n",
       "      <th>4</th>\n",
       "      <td>0.081412</td>\n",
       "      <td>0.184495</td>\n",
       "      <td>0.095043</td>\n",
       "      <td>0.040564</td>\n",
       "      <td>0.884390</td>\n",
       "      <td>0.475881</td>\n",
       "      <td>0.078765</td>\n",
       "      <td>9780006280934</td>\n",
       "    </tr>\n",
       "    <tr>\n",
       "      <th>...</th>\n",
       "      <td>...</td>\n",
       "      <td>...</td>\n",
       "      <td>...</td>\n",
       "      <td>...</td>\n",
       "      <td>...</td>\n",
       "      <td>...</td>\n",
       "      <td>...</td>\n",
       "      <td>...</td>\n",
       "    </tr>\n",
       "    <tr>\n",
       "      <th>5192</th>\n",
       "      <td>0.148209</td>\n",
       "      <td>0.030643</td>\n",
       "      <td>0.919165</td>\n",
       "      <td>0.255172</td>\n",
       "      <td>0.853721</td>\n",
       "      <td>0.980877</td>\n",
       "      <td>0.030656</td>\n",
       "      <td>9788172235222</td>\n",
       "    </tr>\n",
       "    <tr>\n",
       "      <th>5193</th>\n",
       "      <td>0.064133</td>\n",
       "      <td>0.114382</td>\n",
       "      <td>0.051363</td>\n",
       "      <td>0.400263</td>\n",
       "      <td>0.883198</td>\n",
       "      <td>0.111690</td>\n",
       "      <td>0.227765</td>\n",
       "      <td>9788173031014</td>\n",
       "    </tr>\n",
       "    <tr>\n",
       "      <th>5194</th>\n",
       "      <td>0.009997</td>\n",
       "      <td>0.009929</td>\n",
       "      <td>0.339218</td>\n",
       "      <td>0.947779</td>\n",
       "      <td>0.375754</td>\n",
       "      <td>0.066685</td>\n",
       "      <td>0.057625</td>\n",
       "      <td>9788179921623</td>\n",
       "    </tr>\n",
       "    <tr>\n",
       "      <th>5195</th>\n",
       "      <td>0.064133</td>\n",
       "      <td>0.104007</td>\n",
       "      <td>0.459269</td>\n",
       "      <td>0.759456</td>\n",
       "      <td>0.951104</td>\n",
       "      <td>0.368110</td>\n",
       "      <td>0.078765</td>\n",
       "      <td>9788185300535</td>\n",
       "    </tr>\n",
       "    <tr>\n",
       "      <th>5196</th>\n",
       "      <td>0.064133</td>\n",
       "      <td>0.104007</td>\n",
       "      <td>0.051363</td>\n",
       "      <td>0.958549</td>\n",
       "      <td>0.915193</td>\n",
       "      <td>0.111690</td>\n",
       "      <td>0.078765</td>\n",
       "      <td>9789027712059</td>\n",
       "    </tr>\n",
       "  </tbody>\n",
       "</table>\n",
       "<p>5197 rows × 8 columns</p>\n",
       "</div>"
      ],
      "text/plain": [
       "         anger   disgust      fear       joy   sadness   suprise   neutral  \\\n",
       "0     0.064133  0.273592  0.928168  0.932798  0.646216  0.967158  0.729602   \n",
       "1     0.612619  0.348285  0.942528  0.704422  0.887940  0.111690  0.252546   \n",
       "2     0.064133  0.104007  0.972321  0.767238  0.549478  0.111690  0.078765   \n",
       "3     0.351484  0.150722  0.360706  0.251881  0.732685  0.111690  0.078765   \n",
       "4     0.081412  0.184495  0.095043  0.040564  0.884390  0.475881  0.078765   \n",
       "...        ...       ...       ...       ...       ...       ...       ...   \n",
       "5192  0.148209  0.030643  0.919165  0.255172  0.853721  0.980877  0.030656   \n",
       "5193  0.064133  0.114382  0.051363  0.400263  0.883198  0.111690  0.227765   \n",
       "5194  0.009997  0.009929  0.339218  0.947779  0.375754  0.066685  0.057625   \n",
       "5195  0.064133  0.104007  0.459269  0.759456  0.951104  0.368110  0.078765   \n",
       "5196  0.064133  0.104007  0.051363  0.958549  0.915193  0.111690  0.078765   \n",
       "\n",
       "             isbn13  \n",
       "0     9780002005883  \n",
       "1     9780002261982  \n",
       "2     9780006178736  \n",
       "3     9780006280897  \n",
       "4     9780006280934  \n",
       "...             ...  \n",
       "5192  9788172235222  \n",
       "5193  9788173031014  \n",
       "5194  9788179921623  \n",
       "5195  9788185300535  \n",
       "5196  9789027712059  \n",
       "\n",
       "[5197 rows x 8 columns]"
      ]
     },
     "execution_count": 20,
     "metadata": {},
     "output_type": "execute_result"
    }
   ],
   "source": [
    "emotion_df = pd.DataFrame(emotion_scores)\n",
    "emotion_df[\"isbn13\"]=isbn\n",
    "emotion_df"
   ]
  },
  {
   "cell_type": "code",
   "execution_count": null,
   "metadata": {},
   "outputs": [],
   "source": [
    "books = pd.merge(books, emotion_df, on='isbn13')"
   ]
  },
  {
   "cell_type": "code",
   "execution_count": null,
   "metadata": {},
   "outputs": [],
   "source": [
    "books.to_csv(\"books_with_emotion.csv\", index=False)"
   ]
  }
 ],
 "metadata": {
  "kernelspec": {
   "display_name": "Python 3",
   "language": "python",
   "name": "python3"
  },
  "language_info": {
   "codemirror_mode": {
    "name": "ipython",
    "version": 3
   },
   "file_extension": ".py",
   "mimetype": "text/x-python",
   "name": "python",
   "nbconvert_exporter": "python",
   "pygments_lexer": "ipython3",
   "version": "3.11.11"
  }
 },
 "nbformat": 4,
 "nbformat_minor": 2
}
